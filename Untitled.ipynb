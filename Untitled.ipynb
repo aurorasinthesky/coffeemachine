{
 "cells": [
  {
   "cell_type": "code",
   "execution_count": 3,
   "metadata": {},
   "outputs": [
    {
     "ename": "NameError",
     "evalue": "name 'st' is not defined",
     "output_type": "error",
     "traceback": [
      "\u001b[0;31m---------------------------------------------------------------------------\u001b[0m",
      "\u001b[0;31mNameError\u001b[0m                                 Traceback (most recent call last)",
      "\u001b[0;32m<ipython-input-3-d73cd567ba97>\u001b[0m in \u001b[0;36m<module>\u001b[0;34m\u001b[0m\n\u001b[1;32m     57\u001b[0m \u001b[0;34m\u001b[0m\u001b[0m\n\u001b[1;32m     58\u001b[0m \u001b[0;31m# Streamlit arayüz\u001b[0m\u001b[0;34m\u001b[0m\u001b[0;34m\u001b[0m\u001b[0;34m\u001b[0m\u001b[0m\n\u001b[0;32m---> 59\u001b[0;31m \u001b[0mst\u001b[0m\u001b[0;34m.\u001b[0m\u001b[0mtitle\u001b[0m\u001b[0;34m(\u001b[0m\u001b[0;34m\"Simple Coffee Machine\"\u001b[0m\u001b[0;34m)\u001b[0m\u001b[0;34m\u001b[0m\u001b[0;34m\u001b[0m\u001b[0m\n\u001b[0m\u001b[1;32m     60\u001b[0m \u001b[0;34m\u001b[0m\u001b[0m\n\u001b[1;32m     61\u001b[0m \u001b[0;31m# Seçenek sunma ve işlem\u001b[0m\u001b[0;34m\u001b[0m\u001b[0;34m\u001b[0m\u001b[0;34m\u001b[0m\u001b[0m\n",
      "\u001b[0;31mNameError\u001b[0m: name 'st' is not defined"
     ]
    }
   ],
   "source": [
    "\n",
    "\n",
    "# Kahve makinesindeki kaynaklar\n",
    "resources = {\n",
    "    'water': 500,\n",
    "    'milk': 500,\n",
    "    'coffee': 200,\n",
    "    'money': 0\n",
    "}\n",
    "\n",
    "# İçecek bilgileri\n",
    "MENU = {\n",
    "    'espresso': {'ingredients': {'water': 50, 'coffee': 18}, 'cost': 1.5},\n",
    "    'latte': {'ingredients': {'water': 200, 'milk': 150, 'coffee': 24}, 'cost': 2.5},\n",
    "    'cappuccino': {'ingredients': {'water': 250, 'milk': 100, 'coffee': 24}, 'cost': 3.0},\n",
    "}\n",
    "\n",
    "# Basit bir rapor sınıfı, sadece raporu gösterir\n",
    "class Report:\n",
    "    @staticmethod\n",
    "    def display():\n",
    "        st.write(\"### Current Resources:\")\n",
    "        for item, amount in resources.items():\n",
    "            if item == 'money':\n",
    "                st.write(f\"{item.capitalize()}: ${amount:.2f}\")\n",
    "            else:\n",
    "                st.write(f\"{item.capitalize()}: {amount}ml\")\n",
    "\n",
    "# Malzeme kontrol fonksiyonu\n",
    "def check_resources(drink):\n",
    "    for item, amount in MENU[drink]['ingredients'].items():\n",
    "        if resources[item] < amount:\n",
    "            st.write(f\"Sorry, there is not enough {item}.\")\n",
    "            return False\n",
    "    return True\n",
    "\n",
    "# Para işlemi fonksiyonu\n",
    "def process_payment(cost):\n",
    "    st.write(\"Please insert coins.\")\n",
    "    quarters = st.number_input(\"How many quarters?\", min_value=0, step=1) * 0.25\n",
    "    dimes = st.number_input(\"How many dimes?\", min_value=0, step=1) * 0.10\n",
    "    nickels = st.number_input(\"How many nickels?\", min_value=0, step=1) * 0.05\n",
    "    pennies = st.number_input(\"How many pennies?\", min_value=0, step=1) * 0.01\n",
    "    total = quarters + dimes + nickels + pennies\n",
    "    if total < cost:\n",
    "        st.write(\"Sorry, that's not enough money. Money refunded.\")\n",
    "        return False\n",
    "    else:\n",
    "        change = round(total - cost, 2)\n",
    "        st.write(f\"Here is ${change} in change.\")\n",
    "        resources['money'] += cost\n",
    "        return True\n",
    "\n",
    "# Kahve hazırlama fonksiyonu\n",
    "def make_coffee(drink):\n",
    "    for item, amount in MENU[drink]['ingredients'].items():\n",
    "        resources[item] -= amount\n",
    "    st.write(f\"Here is your {drink}. Enjoy!\")\n",
    "\n",
    "# Streamlit arayüz\n",
    "st.title(\"Simple Coffee Machine\")\n",
    "\n",
    "# Seçenek sunma ve işlem\n",
    "choice = st.selectbox(\"What would you like?\", (\"espresso\", \"latte\", \"cappuccino\", \"report\", \"off\"))\n",
    "\n",
    "if choice == \"report\":\n",
    "    Report.display()\n",
    "elif choice == \"off\":\n",
    "    st.write(\"Turning off the coffee machine.\")\n",
    "elif choice in MENU:\n",
    "    if check_resources(choice):\n",
    "        if process_payment(MENU[choice]['cost']):\n",
    "            make_coffee(choice)\n",
    "else:\n",
    "    st.write(\"Please select a valid option.\")\n"
   ]
  },
  {
   "cell_type": "code",
   "execution_count": null,
   "metadata": {},
   "outputs": [],
   "source": []
  }
 ],
 "metadata": {
  "kernelspec": {
   "display_name": "Python 3",
   "language": "python",
   "name": "python3"
  },
  "language_info": {
   "codemirror_mode": {
    "name": "ipython",
    "version": 3
   },
   "file_extension": ".py",
   "mimetype": "text/x-python",
   "name": "python",
   "nbconvert_exporter": "python",
   "pygments_lexer": "ipython3",
   "version": "3.8.5"
  }
 },
 "nbformat": 4,
 "nbformat_minor": 4
}
